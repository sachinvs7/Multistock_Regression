{
  "nbformat": 4,
  "nbformat_minor": 0,
  "metadata": {
    "kernelspec": {
      "display_name": "Python 3",
      "language": "python",
      "name": "python3"
    },
    "language_info": {
      "codemirror_mode": {
        "name": "ipython",
        "version": 3
      },
      "file_extension": ".py",
      "mimetype": "text/x-python",
      "name": "python",
      "nbconvert_exporter": "python",
      "pygments_lexer": "ipython3",
      "version": "3.6.0"
    },
    "colab": {
      "name": "multistock_regresion.ipynb",
      "provenance": [],
      "collapsed_sections": []
    }
  },
  "cells": [
    {
      "cell_type": "code",
      "metadata": {
        "id": "_DTwy6uh6e-j",
        "colab_type": "code",
        "outputId": "36cc83f0-dea4-42a0-b1c5-5f53dbce7189",
        "colab": {
          "base_uri": "https://localhost:8080/",
          "height": 35
        }
      },
      "source": [
        "%pylab inline\n",
        "import matplotlib.pyplot as plt\n",
        "import tensorflow as tf\n",
        "import numpy as np\n",
        "import numpy.random as rng\n",
        "import pandas_datareader.data as web\n",
        "import numpy as np\n",
        "import pandas as pd"
      ],
      "execution_count": 4,
      "outputs": [
        {
          "output_type": "stream",
          "text": [
            "Populating the interactive namespace from numpy and matplotlib\n"
          ],
          "name": "stdout"
        }
      ]
    },
    {
      "cell_type": "code",
      "metadata": {
        "id": "Hiivv--R6e-1",
        "colab_type": "code",
        "colab": {}
      },
      "source": [
        "def get_prices(symbol):\n",
        "    start, end = '2018-04-31', '2019-04-31'\n",
        "    data = web.DataReader(symbol, 'yahoo', start, end)\n",
        "    data=pd.DataFrame(data)\n",
        "    prices=data['Close']\n",
        "    prices=prices.astype(float)\n",
        "    return prices\n",
        "\n",
        "def get_returns(prices):\n",
        "        return ((prices-prices.shift(-1))/prices)[:-1]\n",
        "    \n",
        "def get_data(list):\n",
        "    l = []\n",
        "    for symbol in list:\n",
        "        rets = get_returns(get_prices(symbol))\n",
        "        l.append(rets)\n",
        "    return np.array(l).T\n",
        "\n",
        "def sort_data(rets):\n",
        "    ins = []\n",
        "    outs = []\n",
        "    for i in range(len(rets)-100):\n",
        "        ins.append(rets[i:i+100].tolist())\n",
        "        outs.append(rets[i+100])\n",
        "    return np.array(ins), np.array(outs)\n",
        "        \n"
      ],
      "execution_count": 0,
      "outputs": []
    },
    {
      "cell_type": "code",
      "metadata": {
        "id": "jYata9-u6e--",
        "colab_type": "code",
        "colab": {}
      },
      "source": [
        "symbol_list = ['GOOG', 'MSFT']\n",
        "rets = get_data(symbol_list)\n",
        "ins, outs = sort_data(rets)\n",
        "ins = ins.transpose([0,2,1]).reshape([-1, len(symbol_list) * 100])\n",
        "div = int(.8 * ins.shape[0])\n",
        "train_ins, train_outs = ins[:div], outs[:div]\n",
        "test_ins, test_outs = ins[div:], outs[div:]"
      ],
      "execution_count": 0,
      "outputs": []
    },
    {
      "cell_type": "code",
      "metadata": {
        "id": "rhcM7NpG6e_E",
        "colab_type": "code",
        "colab": {}
      },
      "source": [
        "sess = tf.InteractiveSession()"
      ],
      "execution_count": 0,
      "outputs": []
    },
    {
      "cell_type": "code",
      "metadata": {
        "id": "3lAzq_NP6e_L",
        "colab_type": "code",
        "colab": {
          "base_uri": "https://localhost:8080/",
          "height": 92
        },
        "outputId": "179fe33d-d80b-4dd2-b57c-29740a5aa546"
      },
      "source": [
        "#Define placeholders \n",
        "x = tf.placeholder(tf.float32, [None, len(symbol_list) * 100])\n",
        "y_ = tf.placeholder(tf.float32, [None, len(symbol_list)])\n",
        "\n",
        "#Define trainable variables\n",
        "W = tf.Variable(tf.random_normal([len(symbol_list) * 100, len(symbol_list)]))\n",
        "b = tf.Variable(tf.random_normal([len(symbol_list)]))\n",
        "\n",
        "#Regression\n",
        "y = tf.matmul(x, W) + b\n",
        "\n",
        "#MSE:\n",
        "cost = tf.reduce_sum(tf.pow(y-y_, 2))/(2*1000)\n",
        "optimizer = tf.train.GradientDescentOptimizer(0.5).minimize(cost)"
      ],
      "execution_count": 8,
      "outputs": [
        {
          "output_type": "stream",
          "text": [
            "WARNING:tensorflow:From /usr/local/lib/python3.6/dist-packages/tensorflow_core/python/ops/math_grad.py:1375: where (from tensorflow.python.ops.array_ops) is deprecated and will be removed in a future version.\n",
            "Instructions for updating:\n",
            "Use tf.where in 2.0, which has the same broadcast rule as np.where\n"
          ],
          "name": "stdout"
        }
      ]
    },
    {
      "cell_type": "code",
      "metadata": {
        "scrolled": true,
        "id": "wbW4CYOs6e_V",
        "colab_type": "code",
        "outputId": "22d72ab3-0feb-4a04-87ee-3aa6bce4890a",
        "colab": {
          "base_uri": "https://localhost:8080/",
          "height": 384
        }
      },
      "source": [
        "#Initialize variables to random values\n",
        "init = tf.global_variables_initializer()\n",
        "sess.run(init)\n",
        "for epoch in range(20000):\n",
        "    sess.run(optimizer, feed_dict={x: train_ins, y_: train_outs})#.reshape(1,-1).T})\n",
        "    #Record progress every 1000 iterations\n",
        "    if (epoch+1)%1000== 0:\n",
        "        c = sess.run(cost, feed_dict={x: train_ins, y_: train_outs})#.reshape(1,-1).T})\n",
        "        print(\"Epoch:\", '%04d' % (epoch+1), \"cost=\", \"{:.9f}\".format(c))"
      ],
      "execution_count": 9,
      "outputs": [
        {
          "output_type": "stream",
          "text": [
            "Epoch: 1000 cost= 0.040915698\n",
            "Epoch: 2000 cost= 0.020234287\n",
            "Epoch: 3000 cost= 0.012726652\n",
            "Epoch: 4000 cost= 0.008579744\n",
            "Epoch: 5000 cost= 0.006110362\n",
            "Epoch: 6000 cost= 0.004591146\n",
            "Epoch: 7000 cost= 0.003633401\n",
            "Epoch: 8000 cost= 0.003016822\n",
            "Epoch: 9000 cost= 0.002612460\n",
            "Epoch: 10000 cost= 0.002342888\n",
            "Epoch: 11000 cost= 0.002160538\n",
            "Epoch: 12000 cost= 0.002035585\n",
            "Epoch: 13000 cost= 0.001948974\n",
            "Epoch: 14000 cost= 0.001888323\n",
            "Epoch: 15000 cost= 0.001845464\n",
            "Epoch: 16000 cost= 0.001814929\n",
            "Epoch: 17000 cost= 0.001793015\n",
            "Epoch: 18000 cost= 0.001777183\n",
            "Epoch: 19000 cost= 0.001765679\n",
            "Epoch: 20000 cost= 0.001757273\n"
          ],
          "name": "stdout"
        }
      ]
    },
    {
      "cell_type": "code",
      "metadata": {
        "id": "QMNyzMRz6e_e",
        "colab_type": "code",
        "outputId": "27b1aea2-d30d-490c-c7a3-105cde4ef1ff",
        "colab": {
          "base_uri": "https://localhost:8080/",
          "height": 294
        }
      },
      "source": [
        "#Train results\n",
        "predict = y\n",
        "p = sess.run(predict, feed_dict={x: train_ins})\n",
        "position = 2*((p>0)-.5)\n",
        "returns= position * train_outs\n",
        "daily_returns = sum(returns,1)\n",
        "plot(np.cumprod(daily_returns+1))"
      ],
      "execution_count": 10,
      "outputs": [
        {
          "output_type": "execute_result",
          "data": {
            "text/plain": [
              "[<matplotlib.lines.Line2D at 0x7feabd929160>]"
            ]
          },
          "metadata": {
            "tags": []
          },
          "execution_count": 10
        },
        {
          "output_type": "display_data",
          "data": {
            "image/png": "[encoded data removed]",
            "text/plain": [
              "<Figure size 432x288 with 1 Axes>"
            ]
          },
          "metadata": {
            "tags": []
          }
        }
      ]
    },
    {
      "cell_type": "code",
      "metadata": {
        "id": "psW7MeLe6e_j",
        "colab_type": "code",
        "outputId": "7d6e4be5-d6e4-42f8-d377-6bcf1f2231c8",
        "colab": {
          "base_uri": "https://localhost:8080/",
          "height": 283
        }
      },
      "source": [
        "#Test results\n",
        "predict = y\n",
        "p = sess.run(predict, feed_dict={x: test_ins})\n",
        "position = 2*((p>0)-.5)\n",
        "returns= position * test_outs\n",
        "daily_returns = sum(returns,1)\n",
        "plot(np.cumprod(daily_returns+1))"
      ],
      "execution_count": 11,
      "outputs": [
        {
          "output_type": "execute_result",
          "data": {
            "text/plain": [
              "[<matplotlib.lines.Line2D at 0x7feabf868c88>]"
            ]
          },
          "metadata": {
            "tags": []
          },
          "execution_count": 11
        },
        {
          "output_type": "display_data",
          "data": {
            "image/png": "[encoded data removed]",
            "text/plain": [
              "<Figure size 432x288 with 1 Axes>"
            ]
          },
          "metadata": {
            "tags": []
          }
        }
      ]
    }
  ]
}